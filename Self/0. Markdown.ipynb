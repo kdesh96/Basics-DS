{
 "cells": [
  {
   "cell_type": "markdown",
   "id": "ab4ab4f7-6206-4ad0-a258-42557ba6bae3",
   "metadata": {
    "tags": []
   },
   "source": [
    "# <center>Welcome to writing markdown in Jupyter! Be real scared</center>\n",
    "Following are the go to sources for all the markdowns in the notebook:\n",
    "* Basics: https://www.markdownguide.org/basic-syntax/\n",
    "* Extended: https://www.markdownguide.org/extended-syntax/\n",
    "* Cheatsheet: https://www.markdownguide.org/cheat-sheet/"
   ]
  },
  {
   "cell_type": "markdown",
   "id": "8bbff3ee-4a25-4c75-b7f7-c099d37cffdd",
   "metadata": {
    "tags": []
   },
   "source": [
    "## Basics "
   ]
  },
  {
   "cell_type": "markdown",
   "id": "be5a5436-2178-45c5-9726-ff8d6be78e49",
   "metadata": {
    "tags": []
   },
   "source": [
    "### Headings "
   ]
  },
  {
   "cell_type": "markdown",
   "id": "261c5ea3-e175-470a-9fd4-2daa262c9615",
   "metadata": {},
   "source": [
    "Add # (markdown) or \\<h1>text\\</h1> (html) for headings. Change the number of pounds or the number following the h in the tag  \n",
    "Example:"
   ]
  },
  {
   "cell_type": "markdown",
   "id": "013bb226-add0-4454-816d-884bf92c3d48",
   "metadata": {
    "tags": []
   },
   "source": [
    "#### Heading 4 markdown "
   ]
  },
  {
   "cell_type": "markdown",
   "id": "5966b3c0-01de-41cf-a45b-37f2b655e57d",
   "metadata": {},
   "source": [
    "<h4>Heading 4 html</h4>"
   ]
  },
  {
   "cell_type": "markdown",
   "id": "42e4373e-abe2-43dc-84cd-0cac71c11d3c",
   "metadata": {},
   "source": [
    "### Paragraphs and Linebreaks "
   ]
  },
  {
   "cell_type": "markdown",
   "id": "e6fa5b7d-fcf8-4268-8fff-8dd1fe2bc3a2",
   "metadata": {},
   "source": [
    "Add an empty line (markdown) or use the \\<p> tag (html) to create paragraphs"
   ]
  },
  {
   "cell_type": "markdown",
   "id": "874b1789-ce1a-4222-94e8-0cae6b67caf8",
   "metadata": {},
   "source": [
    "This is an example in markdown. \n",
    "\n",
    "Second paragraph begins and ends here.\n",
    "\n",
    "***\n",
    "\n",
    "<p>This is an example using the html tag</p>\n",
    "<p>Pick your favorite yet?</p>"
   ]
  },
  {
   "cell_type": "code",
   "execution_count": null,
   "id": "f6064e9b-00cb-49d1-848b-3f80a737faf7",
   "metadata": {},
   "outputs": [],
   "source": []
  }
 ],
 "metadata": {
  "kernelspec": {
   "display_name": "Python 3 (ipykernel)",
   "language": "python",
   "name": "python3"
  },
  "language_info": {
   "codemirror_mode": {
    "name": "ipython",
    "version": 3
   },
   "file_extension": ".py",
   "mimetype": "text/x-python",
   "name": "python",
   "nbconvert_exporter": "python",
   "pygments_lexer": "ipython3",
   "version": "3.9.7"
  }
 },
 "nbformat": 4,
 "nbformat_minor": 5
}
