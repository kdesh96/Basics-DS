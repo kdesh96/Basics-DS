{
 "cells": [
  {
   "cell_type": "code",
   "execution_count": 1,
   "id": "95c31ee9",
   "metadata": {
    "tags": []
   },
   "outputs": [],
   "source": [
    "import numpy as np"
   ]
  },
  {
   "cell_type": "markdown",
   "id": "70bb0cab",
   "metadata": {},
   "source": [
    "### Materials referred:\n",
    "Numpy Quickstart: https://numpy.org/doc/stable/user/quickstart.html\n",
    "\n",
    "W3Schools: https://www.w3schools.com/python/numpy/numpy_creating_arrays.asp"
   ]
  },
  {
   "cell_type": "markdown",
   "id": "08fb00f6",
   "metadata": {
    "jp-MarkdownHeadingCollapsed": true,
    "tags": []
   },
   "source": [
    "### Array creation"
   ]
  },
  {
   "cell_type": "code",
   "execution_count": 2,
   "id": "c911a55c",
   "metadata": {},
   "outputs": [
    {
     "name": "stdout",
     "output_type": "stream",
     "text": [
      "[0 1 2 4 6 9]\n",
      "[1 2 3 5 6 9]\n"
     ]
    }
   ],
   "source": [
    "# 1. python list to array\n",
    "new_list = [0,1,2,4,6,9]\n",
    "\n",
    "new_array = np.array(new_list)\n",
    "array_direct = np.array([1,2,3,5,6,9])\n",
    "\n",
    "print(new_array)\n",
    "print(array_direct)"
   ]
  },
  {
   "cell_type": "code",
   "execution_count": 3,
   "id": "3e5d61d7",
   "metadata": {},
   "outputs": [],
   "source": [
    "# list to 2-d array\n",
    "new_list2 = [[1,2,6],[7,5,6]]\n",
    "new_array2d = np.array(new_list2)"
   ]
  },
  {
   "cell_type": "code",
   "execution_count": 4,
   "id": "e0af82e8",
   "metadata": {},
   "outputs": [
    {
     "data": {
      "text/plain": [
       "array([[1, 2, 6],\n",
       "       [7, 5, 6]])"
      ]
     },
     "execution_count": 4,
     "metadata": {},
     "output_type": "execute_result"
    }
   ],
   "source": [
    "new_array2d"
   ]
  },
  {
   "cell_type": "markdown",
   "id": "42b25d84",
   "metadata": {},
   "source": [
    "#### Basics "
   ]
  },
  {
   "cell_type": "code",
   "execution_count": 5,
   "id": "69fcc9c1",
   "metadata": {},
   "outputs": [
    {
     "name": "stdout",
     "output_type": "stream",
     "text": [
      "1\n",
      "2\n",
      "0\n"
     ]
    }
   ],
   "source": [
    "# number of dimensions of an array\n",
    "print(new_array.ndim)\n",
    "print(new_array2d.ndim)\n",
    "zero_d = np.array(1)\n",
    "print(zero_d.ndim)"
   ]
  },
  {
   "cell_type": "code",
   "execution_count": 6,
   "id": "954f9a6f",
   "metadata": {},
   "outputs": [
    {
     "name": "stdout",
     "output_type": "stream",
     "text": [
      "(6,)\n",
      "(2, 3)\n",
      "()\n"
     ]
    }
   ],
   "source": [
    "# shape of an array\n",
    "print(new_array.shape)\n",
    "print(new_array2d.shape)\n",
    "print(zero_d.shape)"
   ]
  },
  {
   "cell_type": "code",
   "execution_count": 7,
   "id": "bb0f8ec2",
   "metadata": {},
   "outputs": [
    {
     "name": "stdout",
     "output_type": "stream",
     "text": [
      "int32\n"
     ]
    }
   ],
   "source": [
    "# data type of elements - could be Python's defaults or numpy's types\n",
    "print(new_array.dtype)"
   ]
  },
  {
   "cell_type": "code",
   "execution_count": 8,
   "id": "44b697af",
   "metadata": {},
   "outputs": [
    {
     "name": "stdout",
     "output_type": "stream",
     "text": [
      "6\n"
     ]
    }
   ],
   "source": [
    "# number of elements\n",
    "print(new_array.size)"
   ]
  },
  {
   "cell_type": "code",
   "execution_count": 9,
   "id": "5ae12935",
   "metadata": {},
   "outputs": [
    {
     "name": "stdout",
     "output_type": "stream",
     "text": [
      "<U11\n"
     ]
    }
   ],
   "source": [
    "list_com = [1, 'varchar']\n",
    "com_array = np.array(list_com)\n",
    "\n",
    "# numpy has priority in data types, unicode takes priority over int32\n",
    "print(com_array.dtype)"
   ]
  },
  {
   "cell_type": "markdown",
   "id": "0b160df1",
   "metadata": {},
   "source": [
    "^ for this, refer: https://stackoverflow.com/questions/49751000/how-does-numpy-determine-the-array-data-type-when-it-contains-multiple-dtypes"
   ]
  },
  {
   "cell_type": "code",
   "execution_count": 10,
   "id": "ed8e42b8",
   "metadata": {},
   "outputs": [
    {
     "name": "stdout",
     "output_type": "stream",
     "text": [
      "4\n"
     ]
    }
   ],
   "source": [
    "# bytes used by each element\n",
    "print(new_array.itemsize)"
   ]
  },
  {
   "cell_type": "markdown",
   "id": "aabd164c",
   "metadata": {
    "jp-MarkdownHeadingCollapsed": true,
    "tags": []
   },
   "source": [
    "### Back to array creation "
   ]
  },
  {
   "cell_type": "code",
   "execution_count": 11,
   "id": "31e7f006",
   "metadata": {},
   "outputs": [
    {
     "data": {
      "text/plain": [
       "array([[1.+0.j, 2.+0.j],\n",
       "       [5.+0.j, 7.+0.j]])"
      ]
     },
     "execution_count": 11,
     "metadata": {},
     "output_type": "execute_result"
    }
   ],
   "source": [
    "# np.array takes two arguments - list and dtype\n",
    "complex_numbers = np.array([[1,2],[5,7]], dtype = complex)\n",
    "complex_numbers"
   ]
  },
  {
   "cell_type": "code",
   "execution_count": 12,
   "id": "5a59057e",
   "metadata": {},
   "outputs": [
    {
     "data": {
      "text/plain": [
       "array([[0., 0.],\n",
       "       [0., 0.],\n",
       "       [0., 0.],\n",
       "       [0., 0.],\n",
       "       [0., 0.]])"
      ]
     },
     "execution_count": 12,
     "metadata": {},
     "output_type": "execute_result"
    }
   ],
   "source": [
    "# array of zeros\n",
    "zeroes = np.zeros((5,2))\n",
    "zeroes"
   ]
  },
  {
   "cell_type": "code",
   "execution_count": 13,
   "id": "23079d20",
   "metadata": {},
   "outputs": [
    {
     "data": {
      "text/plain": [
       "array([[1, 1, 1],\n",
       "       [1, 1, 1]], dtype=int16)"
      ]
     },
     "execution_count": 13,
     "metadata": {},
     "output_type": "execute_result"
    }
   ],
   "source": [
    "# array of ones\n",
    "ones_array = np.ones((2,3), dtype=np.int16)\n",
    "ones_array"
   ]
  },
  {
   "cell_type": "code",
   "execution_count": 14,
   "id": "b0893bc6",
   "metadata": {},
   "outputs": [
    {
     "data": {
      "text/plain": [
       "array([[0.00000000e+000, 0.00000000e+000, 0.00000000e+000,\n",
       "        0.00000000e+000],\n",
       "       [0.00000000e+000, 6.79834329e-321, 1.57696599e-234,\n",
       "        1.06099790e-311]])"
      ]
     },
     "execution_count": 14,
     "metadata": {},
     "output_type": "execute_result"
    }
   ],
   "source": [
    "# empty array, gets filled with values from memory, default type float64 but can be changed\n",
    "nones = np.empty((2,4))\n",
    "nones"
   ]
  },
  {
   "cell_type": "code",
   "execution_count": 15,
   "id": "615c8170",
   "metadata": {},
   "outputs": [
    {
     "data": {
      "text/plain": [
       "array([0, 2, 4, 6, 8])"
      ]
     },
     "execution_count": 15,
     "metadata": {},
     "output_type": "execute_result"
    }
   ],
   "source": [
    "# Arange\n",
    "evens_10 = np.arange(0,10,2)\n",
    "evens_10"
   ]
  },
  {
   "cell_type": "code",
   "execution_count": 16,
   "id": "7b8c3873",
   "metadata": {},
   "outputs": [
    {
     "data": {
      "text/plain": [
       "array([1, 3, 5, 7, 9])"
      ]
     },
     "execution_count": 16,
     "metadata": {},
     "output_type": "execute_result"
    }
   ],
   "source": [
    "odds_10 = np.arange(1,10,2)\n",
    "odds_10"
   ]
  },
  {
   "cell_type": "code",
   "execution_count": 17,
   "id": "f70ebfd8",
   "metadata": {},
   "outputs": [
    {
     "data": {
      "text/plain": [
       "array([  0.        ,  16.66666667,  33.33333333,  50.        ,\n",
       "        66.66666667,  83.33333333, 100.        ])"
      ]
     },
     "execution_count": 17,
     "metadata": {},
     "output_type": "execute_result"
    }
   ],
   "source": [
    "# Linspace - third argument takes the number of elements to be generate\n",
    "linspace_array = np.linspace(0,100,7)\n",
    "linspace_array"
   ]
  },
  {
   "cell_type": "markdown",
   "id": "9577e9ea",
   "metadata": {
    "jp-MarkdownHeadingCollapsed": true,
    "tags": []
   },
   "source": [
    "### Universal functions:\n",
    "\n",
    "all, any, apply_along_axis, argmax, argmin, argsort, average, bincount, ceil, clip, conj, corrcoef, cov, cross, cumprod, cumsum, diff, dot, floor, inner, invert, lexsort, max, maximum, mean, median, min, minimum, nonzero, outer, prod, re, round, sort, std, sum, trace, transpose, var, vdot, vectorize, where"
   ]
  },
  {
   "cell_type": "markdown",
   "id": "d1a13b0e",
   "metadata": {
    "jp-MarkdownHeadingCollapsed": true,
    "tags": []
   },
   "source": [
    "### Indexing and Slicing "
   ]
  },
  {
   "cell_type": "code",
   "execution_count": 18,
   "id": "19befa6d-31f3-457c-bdb0-dad887ea18df",
   "metadata": {},
   "outputs": [
    {
     "data": {
      "text/plain": [
       "array([  0,   1,   8,  27,  64, 125, 216, 343, 512, 729], dtype=int32)"
      ]
     },
     "execution_count": 18,
     "metadata": {},
     "output_type": "execute_result"
    }
   ],
   "source": [
    "cubes = np.arange(10)**3\n",
    "cubes"
   ]
  },
  {
   "cell_type": "code",
   "execution_count": 19,
   "id": "2e7f298e-deef-44c1-9761-594e2e64b712",
   "metadata": {},
   "outputs": [
    {
     "data": {
      "text/plain": [
       "0"
      ]
     },
     "execution_count": 19,
     "metadata": {},
     "output_type": "execute_result"
    }
   ],
   "source": [
    "cubes[0]"
   ]
  },
  {
   "cell_type": "code",
   "execution_count": 20,
   "id": "c6a505ef-3c90-4124-b4f4-609ff4896f55",
   "metadata": {},
   "outputs": [
    {
     "data": {
      "text/plain": [
       "array([0, 1, 8], dtype=int32)"
      ]
     },
     "execution_count": 20,
     "metadata": {},
     "output_type": "execute_result"
    }
   ],
   "source": [
    "cubes[:3]\n",
    "# does not include the right limit, includes the left limit"
   ]
  },
  {
   "cell_type": "code",
   "execution_count": 21,
   "id": "1c452108-1773-4774-97c2-94bd8b194177",
   "metadata": {},
   "outputs": [
    {
     "data": {
      "text/plain": [
       "array([  1,  64, 343], dtype=int32)"
      ]
     },
     "execution_count": 21,
     "metadata": {},
     "output_type": "execute_result"
    }
   ],
   "source": [
    "cubes[1:10:3]"
   ]
  },
  {
   "cell_type": "code",
   "execution_count": 22,
   "id": "04e0a62a-a35b-479c-a6a5-c95620c2a55f",
   "metadata": {},
   "outputs": [
    {
     "data": {
      "text/plain": [
       "729"
      ]
     },
     "execution_count": 22,
     "metadata": {},
     "output_type": "execute_result"
    }
   ],
   "source": [
    "cubes[-1]\n",
    "# negative indexing works, just like lists"
   ]
  },
  {
   "cell_type": "code",
   "execution_count": 23,
   "id": "debbd1c8-7424-4615-ac5a-e06e239bf3f0",
   "metadata": {},
   "outputs": [],
   "source": [
    "def integers(x,y):\n",
    "    return(10*x+y)"
   ]
  },
  {
   "cell_type": "code",
   "execution_count": 24,
   "id": "d61b5bbc-ccb5-4894-8164-4fa565386528",
   "metadata": {},
   "outputs": [],
   "source": [
    "ints = np.fromfunction(integers,(4,5),dtype=int)"
   ]
  },
  {
   "cell_type": "code",
   "execution_count": 25,
   "id": "18969832-e77a-4ec7-8415-b975893a3ac5",
   "metadata": {},
   "outputs": [
    {
     "data": {
      "text/plain": [
       "array([[ 0,  1,  2,  3,  4],\n",
       "       [10, 11, 12, 13, 14],\n",
       "       [20, 21, 22, 23, 24],\n",
       "       [30, 31, 32, 33, 34]])"
      ]
     },
     "execution_count": 25,
     "metadata": {},
     "output_type": "execute_result"
    }
   ],
   "source": [
    "ints\n",
    "# values are calculated by using the indices as the inputs to the function"
   ]
  },
  {
   "cell_type": "code",
   "execution_count": 26,
   "id": "0e6f5d17-3f3d-48ca-a8f5-1ebff3393da2",
   "metadata": {},
   "outputs": [
    {
     "data": {
      "text/plain": [
       "array([ 1, 11, 21])"
      ]
     },
     "execution_count": 26,
     "metadata": {},
     "output_type": "execute_result"
    }
   ],
   "source": [
    "ints[:3,1]"
   ]
  },
  {
   "cell_type": "code",
   "execution_count": 27,
   "id": "922ce011-244d-468f-aa30-d8a97db464d1",
   "metadata": {},
   "outputs": [
    {
     "name": "stdout",
     "output_type": "stream",
     "text": [
      "1\n",
      "11\n",
      "21\n"
     ]
    }
   ],
   "source": [
    "for row in ints[:3,]:\n",
    "    print(row[1])"
   ]
  },
  {
   "cell_type": "markdown",
   "id": "9895e21b-3926-4ec4-9710-76e555ad6878",
   "metadata": {},
   "source": [
    "### Distributions "
   ]
  },
  {
   "cell_type": "code",
   "execution_count": null,
   "id": "3a501e04-1bf7-4efe-97a2-e6bf37cdb1c2",
   "metadata": {},
   "outputs": [],
   "source": [
    "from nu"
   ]
  },
  {
   "cell_type": "code",
   "execution_count": null,
   "id": "ffd78b74-1037-44b7-bd14-a68da64bab4d",
   "metadata": {},
   "outputs": [],
   "source": []
  }
 ],
 "metadata": {
  "kernelspec": {
   "display_name": "Python 3 (ipykernel)",
   "language": "python",
   "name": "python3"
  },
  "language_info": {
   "codemirror_mode": {
    "name": "ipython",
    "version": 3
   },
   "file_extension": ".py",
   "mimetype": "text/x-python",
   "name": "python",
   "nbconvert_exporter": "python",
   "pygments_lexer": "ipython3",
   "version": "3.9.7"
  }
 },
 "nbformat": 4,
 "nbformat_minor": 5
}
