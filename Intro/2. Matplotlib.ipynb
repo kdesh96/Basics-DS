{
 "cells": [
  {
   "cell_type": "markdown",
   "id": "b31ee311-f50a-4f86-be06-1aac586b334d",
   "metadata": {},
   "source": [
    "## <center> Matplotlib (pyplot) vs Seaborn </center> "
   ]
  },
  {
   "cell_type": "markdown",
   "id": "fb74740d-08cd-407b-9237-f5e8f1e17fe5",
   "metadata": {},
   "source": [
    "### Resources\n",
    "https://www.w3schools.com/python/matplotlib_intro.asp  \n",
    "https://matplotlib.org/stable/tutorials/index.html"
   ]
  },
  {
   "cell_type": "code",
   "execution_count": 11,
   "id": "b0a4d8b3-f2ef-457e-8c7a-51069804c20a",
   "metadata": {},
   "outputs": [],
   "source": [
    "# Libraries\n",
    "\n",
    "import numpy as np\n",
    "import pandas as pd\n",
    "import matplotlib.pyplot as plt\n",
    "import seaborn as sns\n",
    "import rdatasets"
   ]
  },
  {
   "cell_type": "code",
   "execution_count": 12,
   "id": "d6b33ee4-e55f-4fdd-9986-4ef2d244b7d4",
   "metadata": {},
   "outputs": [],
   "source": [
    "# Dataset \n",
    "dataset = rdatasets.data('iris')\n",
    "df = pd.DataFrame(dataset)"
   ]
  },
  {
   "cell_type": "code",
   "execution_count": 13,
   "id": "67ca9e3b-f2b1-45e3-9ba5-6bf87547e08e",
   "metadata": {},
   "outputs": [],
   "source": []
  },
  {
   "cell_type": "code",
   "execution_count": 14,
   "id": "fd1de2a2-e063-4fc7-ba3a-6848ca64b6c2",
   "metadata": {},
   "outputs": [
    {
     "data": {
      "text/html": [
       "<div>\n",
       "<style scoped>\n",
       "    .dataframe tbody tr th:only-of-type {\n",
       "        vertical-align: middle;\n",
       "    }\n",
       "\n",
       "    .dataframe tbody tr th {\n",
       "        vertical-align: top;\n",
       "    }\n",
       "\n",
       "    .dataframe thead th {\n",
       "        text-align: right;\n",
       "    }\n",
       "</style>\n",
       "<table border=\"1\" class=\"dataframe\">\n",
       "  <thead>\n",
       "    <tr style=\"text-align: right;\">\n",
       "      <th></th>\n",
       "      <th>Sepal.Length</th>\n",
       "      <th>Sepal.Width</th>\n",
       "      <th>Petal.Length</th>\n",
       "      <th>Petal.Width</th>\n",
       "      <th>Species</th>\n",
       "    </tr>\n",
       "  </thead>\n",
       "  <tbody>\n",
       "    <tr>\n",
       "      <th>0</th>\n",
       "      <td>5.1</td>\n",
       "      <td>3.5</td>\n",
       "      <td>1.4</td>\n",
       "      <td>0.2</td>\n",
       "      <td>setosa</td>\n",
       "    </tr>\n",
       "    <tr>\n",
       "      <th>1</th>\n",
       "      <td>4.9</td>\n",
       "      <td>3.0</td>\n",
       "      <td>1.4</td>\n",
       "      <td>0.2</td>\n",
       "      <td>setosa</td>\n",
       "    </tr>\n",
       "    <tr>\n",
       "      <th>2</th>\n",
       "      <td>4.7</td>\n",
       "      <td>3.2</td>\n",
       "      <td>1.3</td>\n",
       "      <td>0.2</td>\n",
       "      <td>setosa</td>\n",
       "    </tr>\n",
       "    <tr>\n",
       "      <th>3</th>\n",
       "      <td>4.6</td>\n",
       "      <td>3.1</td>\n",
       "      <td>1.5</td>\n",
       "      <td>0.2</td>\n",
       "      <td>setosa</td>\n",
       "    </tr>\n",
       "    <tr>\n",
       "      <th>4</th>\n",
       "      <td>5.0</td>\n",
       "      <td>3.6</td>\n",
       "      <td>1.4</td>\n",
       "      <td>0.2</td>\n",
       "      <td>setosa</td>\n",
       "    </tr>\n",
       "  </tbody>\n",
       "</table>\n",
       "</div>"
      ],
      "text/plain": [
       "   Sepal.Length  Sepal.Width  Petal.Length  Petal.Width Species\n",
       "0           5.1          3.5           1.4          0.2  setosa\n",
       "1           4.9          3.0           1.4          0.2  setosa\n",
       "2           4.7          3.2           1.3          0.2  setosa\n",
       "3           4.6          3.1           1.5          0.2  setosa\n",
       "4           5.0          3.6           1.4          0.2  setosa"
      ]
     },
     "execution_count": 14,
     "metadata": {},
     "output_type": "execute_result"
    }
   ],
   "source": [
    "df.head()"
   ]
  },
  {
   "cell_type": "markdown",
   "id": "29bfb0c7-39fb-4717-9012-d494cd9823d4",
   "metadata": {},
   "source": [
    "### For reference: "
   ]
  },
  {
   "cell_type": "markdown",
   "id": "4c14be17-48d6-456f-a788-8e76fd05337e",
   "metadata": {},
   "source": [
    "<div>\n",
    "<img src=resources/anatomy.png width=\"600\"/>\n",
    "</div>"
   ]
  },
  {
   "cell_type": "markdown",
   "id": "56753549-08f4-49e3-97d7-8b2b8f5398f1",
   "metadata": {},
   "source": [
    "### Matplotlib structure "
   ]
  },
  {
   "cell_type": "markdown",
   "id": "0c76c03b-dba3-450b-b0c9-00a859be480d",
   "metadata": {},
   "source": [
    "There's a procedural way to use matplotlib and an object oriented way.</br>\n",
    "The former uses plt.plot() and lets you add more stuff to it as you go but it only creates one plot in one figure.  \n",
    "The latter can be used to divide the figure into a grid, with each portion getting a different plot"
   ]
  },
  {
   "cell_type": "markdown",
   "id": "c742a9f0-4794-441b-b18e-d4fdd76c5d56",
   "metadata": {},
   "source": [
    "#### Lineplot"
   ]
  },
  {
   "cell_type": "code",
   "execution_count": null,
   "id": "af4443eb-9c5e-487b-aa45-56960894602f",
   "metadata": {},
   "outputs": [],
   "source": []
  },
  {
   "cell_type": "markdown",
   "id": "5e87a640-7392-421e-90fe-eb848cc10d91",
   "metadata": {},
   "source": [
    "#### Scatterplot"
   ]
  },
  {
   "cell_type": "code",
   "execution_count": null,
   "id": "6c9ef508-da62-4681-ba17-326225c59b05",
   "metadata": {},
   "outputs": [],
   "source": []
  },
  {
   "cell_type": "markdown",
   "id": "2b2becd3-afb5-4da5-962b-201fff91f46b",
   "metadata": {},
   "source": [
    "#### Histogram "
   ]
  },
  {
   "cell_type": "code",
   "execution_count": null,
   "id": "6fee076f-1962-4263-917e-cc5fa0d23d12",
   "metadata": {},
   "outputs": [],
   "source": []
  },
  {
   "cell_type": "markdown",
   "id": "55119674-025c-4d45-b67e-3e6722b5a17e",
   "metadata": {},
   "source": [
    "#### Bargraph "
   ]
  },
  {
   "cell_type": "code",
   "execution_count": null,
   "id": "ff5e7921-cd66-475b-8559-890c8e6f4303",
   "metadata": {},
   "outputs": [],
   "source": []
  },
  {
   "cell_type": "markdown",
   "id": "82899494-86ec-49d4-9c1e-87b79ddc56a6",
   "metadata": {},
   "source": [
    "#### Boxplot "
   ]
  },
  {
   "cell_type": "code",
   "execution_count": null,
   "id": "dd84f299-ae41-4c11-829e-89b48bf8258f",
   "metadata": {},
   "outputs": [],
   "source": []
  }
 ],
 "metadata": {
  "kernelspec": {
   "display_name": "Python 3",
   "language": "python",
   "name": "python3"
  },
  "language_info": {
   "codemirror_mode": {
    "name": "ipython",
    "version": 3
   },
   "file_extension": ".py",
   "mimetype": "text/x-python",
   "name": "python",
   "nbconvert_exporter": "python",
   "pygments_lexer": "ipython3",
   "version": "3.8.8"
  }
 },
 "nbformat": 4,
 "nbformat_minor": 5
}
